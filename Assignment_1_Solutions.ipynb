{
 "cells": [
  {
   "cell_type": "markdown",
   "id": "465581b4",
   "metadata": {},
   "source": [
    "# Python Basics - Assignment Solutions"
   ]
  },
  {
   "cell_type": "markdown",
   "id": "15b1251a",
   "metadata": {},
   "source": [
    "### 1. Identify whether the following are values or expressions:"
   ]
  },
  {
   "cell_type": "code",
   "execution_count": null,
   "id": "65573cfc",
   "metadata": {},
   "outputs": [],
   "source": [
    "\n",
    "# * → Expression (Multiplication operator)\n",
    "# 'hello' → Value (String type)\n",
    "# -87.8 → Value (Floating-point number)\n",
    "# - → Expression (Subtraction operator)\n",
    "# / → Expression (Division operator)\n",
    "# + → Expression (Addition operator)\n",
    "# 6 → Value (Integer)\n"
   ]
  },
  {
   "cell_type": "markdown",
   "id": "dfa53a0e",
   "metadata": {},
   "source": [
    "### 2. Difference between a string and a variable:"
   ]
  },
  {
   "cell_type": "code",
   "execution_count": null,
   "id": "4fd634d9",
   "metadata": {},
   "outputs": [],
   "source": [
    "\n",
    "# A string is text data, like 'hello'.\n",
    "# A variable is a name used to store data.\n",
    "# Example:\n",
    "text = 'hello'  # 'hello' is a string, text is a variable\n"
   ]
  },
  {
   "cell_type": "markdown",
   "id": "bbe3f032",
   "metadata": {},
   "source": [
    "### 3. Explain three common data types:"
   ]
  },
  {
   "cell_type": "code",
   "execution_count": null,
   "id": "852b8137",
   "metadata": {},
   "outputs": [],
   "source": [
    "\n",
    "# String (str) – e.g., 'Python'\n",
    "# Integer (int) – e.g., 10, -5\n",
    "# Float (float) – e.g., 3.14, -0.5\n"
   ]
  },
  {
   "cell_type": "markdown",
   "id": "bfd24bb9",
   "metadata": {},
   "source": [
    "### 4. What is an expression and what does it do?"
   ]
  },
  {
   "cell_type": "code",
   "execution_count": null,
   "id": "60a2ff61",
   "metadata": {},
   "outputs": [],
   "source": [
    "\n",
    "# An expression combines values and operators and returns a result.\n",
    "# Example:\n",
    "result = 5 + 3\n",
    "print(result)  # Output: 8\n"
   ]
  },
  {
   "cell_type": "markdown",
   "id": "1df13355",
   "metadata": {},
   "source": [
    "### 5. Difference between expression and statement:"
   ]
  },
  {
   "cell_type": "code",
   "execution_count": null,
   "id": "8d580378",
   "metadata": {},
   "outputs": [],
   "source": [
    "\n",
    "# Expression: Returns a value (e.g., 4 * 2)\n",
    "# Statement: Performs an action (e.g., x = 10)\n"
   ]
  },
  {
   "cell_type": "markdown",
   "id": "35e4a272",
   "metadata": {},
   "source": [
    "### 6. What is the value of `bacon` after the code runs?"
   ]
  },
  {
   "cell_type": "code",
   "execution_count": null,
   "id": "cc05f576",
   "metadata": {},
   "outputs": [],
   "source": [
    "\n",
    "bacon = 22\n",
    "bacon + 1  # Evaluates to 23 but does not change bacon\n",
    "print(bacon)  # Output: 22\n"
   ]
  },
  {
   "cell_type": "markdown",
   "id": "02178322",
   "metadata": {},
   "source": [
    "### 7. Predict the results:"
   ]
  },
  {
   "cell_type": "code",
   "execution_count": null,
   "id": "d40d6fcc",
   "metadata": {},
   "outputs": [],
   "source": [
    "\n",
    "print('spam' + 'spamspam')  # Output: spamspamspam\n",
    "print('spam' * 3)           # Output: spamspamspam\n"
   ]
  },
  {
   "cell_type": "markdown",
   "id": "8644d2a9",
   "metadata": {},
   "source": [
    "### 8. Why is `eggs` valid but `100` is not as a variable name?"
   ]
  },
  {
   "cell_type": "code",
   "execution_count": null,
   "id": "e6fda83c",
   "metadata": {},
   "outputs": [],
   "source": [
    "\n",
    "# Variable names must start with a letter or underscore.\n",
    "# 'eggs' is valid, '100' is invalid (starts with a digit).\n"
   ]
  },
  {
   "cell_type": "markdown",
   "id": "4b5ef264",
   "metadata": {},
   "source": [
    "### 9. Which three functions help convert values into different types?"
   ]
  },
  {
   "cell_type": "code",
   "execution_count": null,
   "id": "08ae08f4",
   "metadata": {},
   "outputs": [],
   "source": [
    "\n",
    "# int() – to convert to integer\n",
    "# float() – to convert to float\n",
    "# str() – to convert to string\n"
   ]
  },
  {
   "cell_type": "markdown",
   "id": "48f4b525",
   "metadata": {},
   "source": [
    "### 10. Why does this line cause an error? How can you solve it?"
   ]
  },
  {
   "cell_type": "code",
   "execution_count": null,
   "id": "b7241ae6",
   "metadata": {},
   "outputs": [],
   "source": [
    "\n",
    "# Error due to trying to add string and integer\n",
    "# Fix it by converting number to string\n",
    "\n",
    "print('I have eaten ' + str(99) + ' burritos.')\n"
   ]
  }
 ],
 "metadata": {},
 "nbformat": 4,
 "nbformat_minor": 5
}
